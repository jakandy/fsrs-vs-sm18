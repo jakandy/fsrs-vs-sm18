{
 "cells": [
  {
   "cell_type": "markdown",
   "metadata": {},
   "source": [
    "# SuperMemo Data Filter\n",
    "\n",
    "[![open in colab](https://colab.research.google.com/assets/colab-badge.svg)](https://colab.research.google.com/github/open-spaced-repetition/fsrs-vs-sm18/blob/main/data_filter.ipynb)\n",
    "\n",
    "This notebook filters out the repetition history of Concept and Topic. It only keeps the repetition history of Item. It also remove the title of each item for privacy."
   ]
  },
  {
   "cell_type": "code",
   "execution_count": 1,
   "metadata": {},
   "outputs": [],
   "source": [
    "username = 'LMSherlock'\n",
    "date = '2023-08-10' # YYYY-MM-DD\n",
    "\n",
    "def correctly_process_file(file_path, output_file_path):\n",
    "    result_lines = []  # To store the processed lines\n",
    "    is_item_section = False  # Flag to identify whether we are in an item section\n",
    "\n",
    "    with open(file_path, 'r', encoding='gbk') as file:\n",
    "        for line in file:\n",
    "            line = line.strip()\n",
    "            # Check if the line starts a new item section\n",
    "            if line.startswith('Item #'):\n",
    "                is_item_section = True\n",
    "                item_number = line.split(\":\")[0]  # Keep only the \"Item #\" part\n",
    "                result_lines.append(item_number)\n",
    "            elif line.startswith('Topic #') or line.startswith('Concept #'):\n",
    "                is_item_section = False\n",
    "            # If in item section, only keep the repetition records\n",
    "            elif is_item_section and line.startswith('ElNo'):\n",
    "                result_lines.append(line)\n",
    "            elif line.startswith('Repetition') or line.startswith('Date'):\n",
    "                result_lines.append(line)\n",
    "            elif is_item_section and line == \"\":\n",
    "                result_lines.append(line)\n",
    "\n",
    "    # Saving the processed content to the output file\n",
    "    with open(output_file_path, 'w', encoding='utf-8') as file:\n",
    "        for line in result_lines:\n",
    "            file.write(line + '\\n')\n",
    "\n",
    "\n",
    "input_file_path = './Repetition History.txt'\n",
    "output_file_path = f'./Repetition History-{username}-{date}.txt'\n",
    "correctly_process_file(input_file_path, output_file_path)"
   ]
  }
 ],
 "metadata": {
  "kernelspec": {
   "display_name": "fsrs4anki",
   "language": "python",
   "name": "python3"
  },
  "language_info": {
   "codemirror_mode": {
    "name": "ipython",
    "version": 3
   },
   "file_extension": ".py",
   "mimetype": "text/x-python",
   "name": "python",
   "nbconvert_exporter": "python",
   "pygments_lexer": "ipython3",
   "version": "3.9.16"
  },
  "orig_nbformat": 4
 },
 "nbformat": 4,
 "nbformat_minor": 2
}
